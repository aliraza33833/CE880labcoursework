{
  "nbformat": 4,
  "nbformat_minor": 0,
  "metadata": {
    "colab": {
      "name": "Cardiotocography.ipynb",
      "provenance": [],
      "authorship_tag": "ABX9TyMWwtGzyCseFo+/f38vPS2p",
      "include_colab_link": true
    },
    "kernelspec": {
      "name": "python3",
      "display_name": "Python 3"
    },
    "language_info": {
      "name": "python"
    }
  },
  "cells": [
    {
      "cell_type": "markdown",
      "metadata": {
        "id": "view-in-github",
        "colab_type": "text"
      },
      "source": [
        "<a href=\"https://colab.research.google.com/github/aliraza33833/CE880labcoursework/blob/main/CaseStudy/Cardiotocography.ipynb\" target=\"_parent\"><img src=\"https://colab.research.google.com/assets/colab-badge.svg\" alt=\"Open In Colab\"/></a>"
      ]
    },
    {
      "cell_type": "code",
      "execution_count": 3,
      "metadata": {
        "colab": {
          "base_uri": "https://localhost:8080/"
        },
        "id": "_Pzn39Kz4EBO",
        "outputId": "7f08d105-edf5-477b-b057-1cf2c865deef"
      },
      "outputs": [
        {
          "output_type": "stream",
          "name": "stdout",
          "text": [
            "<bound method NDFrame.head of       baseline value  accelerations  ...  histogram_tendency  fetal_health\n",
            "0              120.0          0.000  ...                 1.0           2.0\n",
            "1              132.0          0.006  ...                 0.0           1.0\n",
            "2              133.0          0.003  ...                 0.0           1.0\n",
            "3              134.0          0.003  ...                 1.0           1.0\n",
            "4              132.0          0.007  ...                 1.0           1.0\n",
            "...              ...            ...  ...                 ...           ...\n",
            "2121           140.0          0.000  ...                 0.0           2.0\n",
            "2122           140.0          0.001  ...                 1.0           2.0\n",
            "2123           140.0          0.001  ...                 1.0           2.0\n",
            "2124           140.0          0.001  ...                 1.0           2.0\n",
            "2125           142.0          0.002  ...                 0.0           1.0\n",
            "\n",
            "[2126 rows x 22 columns]>\n"
          ]
        }
      ],
      "source": [
        "import pandas as pd\n",
        "\n",
        "url = 'https://raw.githubusercontent.com/aliraza33833/CE880/main/fetal_health.csv'\n",
        "df = pd.read_csv(url, encoding='unicode_escape')\n",
        "print(df.head)"
      ]
    }
  ]
}