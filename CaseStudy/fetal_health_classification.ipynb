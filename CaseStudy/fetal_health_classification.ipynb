{
  "metadata": {
    "kernelspec": {
      "language": "python",
      "display_name": "Python 3",
      "name": "python3"
    },
    "language_info": {
      "pygments_lexer": "ipython3",
      "nbconvert_exporter": "python",
      "version": "3.6.4",
      "file_extension": ".py",
      "codemirror_mode": {
        "name": "ipython",
        "version": 3
      },
      "name": "python",
      "mimetype": "text/x-python"
    },
    "colab": {
      "name": "fetal-health-classification.ipynb",
      "provenance": [],
      "include_colab_link": true
    }
  },
  "nbformat_minor": 0,
  "nbformat": 4,
  "cells": [
    {
      "cell_type": "markdown",
      "metadata": {
        "id": "view-in-github",
        "colab_type": "text"
      },
      "source": [
        "<a href=\"https://colab.research.google.com/github/aliraza33833/CE880labcoursework/blob/main/CaseStudy/fetal_health_classification.ipynb\" target=\"_parent\"><img src=\"https://colab.research.google.com/assets/colab-badge.svg\" alt=\"Open In Colab\"/></a>"
      ]
    },
    {
      "cell_type": "code",
      "source": [
        "# This Python 3 environment comes with many helpful analytics libraries installed\n",
        "# It is defined by the kaggle/python Docker image: https://github.com/kaggle/docker-python\n",
        "# For example, here's several helpful packages to load\n",
        "\n",
        "import numpy as np # linear algebra\n",
        "import pandas as pd # data processing, CSV file I/O (e.g. pd.read_csv)\n",
        "\n",
        "# Input data files are available in the read-only \"../input/\" directory\n",
        "# For example, running this (by clicking run or pressing Shift+Enter) will list all files under the input directory\n",
        "\n",
        "import os\n",
        "for dirname, _, filenames in os.walk('/kaggle/input'):\n",
        "    for filename in filenames:\n",
        "        print(os.path.join(dirname, filename))\n",
        "\n",
        "# You can write up to 20GB to plagiarismthe current directory (/kaggle/working/) that gets preserved as output when you create a version using \"Save & Run All\" \n",
        "# You can also write temporary files to /kaggle/temp/, but they won't be saved outside of the current session"
      ],
      "metadata": {
        "_uuid": "8f2839f25d086af736a60e9eeb907d3b93b6e0e5",
        "_cell_guid": "b1076dfc-b9ad-4769-8c92-a6c4dae69d19",
        "_kg_hide-input": true,
        "_kg_hide-output": true,
        "execution": {
          "iopub.status.busy": "2021-05-27T10:21:18.265535Z",
          "iopub.execute_input": "2021-05-27T10:21:18.266086Z",
          "iopub.status.idle": "2021-05-27T10:21:18.288755Z",
          "shell.execute_reply.started": "2021-05-27T10:21:18.266047Z",
          "shell.execute_reply": "2021-05-27T10:21:18.287227Z"
        },
        "trusted": true,
        "id": "rocsJy6yT-Py"
      },
      "execution_count": null,
      "outputs": []
    },
    {
      "cell_type": "markdown",
      "source": [
        " # <h1 style='background:#F7B2B0; border:0; color:black'><center>FETAL HEALTH</center></h1> \n",
        "  \n",
        "Cardiotocography (CTG) is used during pregnancy to monitor fetal heart rate and uterine contractions. It is monitor fetal well-being and allows early detection of fetal distress. \n",
        "\n",
        " CTG interpretation helps in determining if the pregnancy is high or low risk.  An abnormal CTG may indicate the need for further investigations and potential intervention.\n",
        "\n",
        "In this project, I will create a model to classify the outcome of Cardiotocogram test to ensure the well being of the fetus. "
      ],
      "metadata": {
        "id": "daT8Om9VT-Pz"
      }
    },
    {
      "cell_type": "markdown",
      "source": [
        " # **<span style=\"color:#F7B2B0;\">TABLE OF CONTENTS</span>**\n",
        "\n",
        "**IMPORTING LIBRARIES**\n",
        "\n",
        "**LOADING DATA**\n",
        "\n",
        "**DATA PREPROCESSING**\n",
        "\n",
        "**DATA ANALYSIS**\n",
        "\n",
        "**MODEL BUILDING**\n",
        "\n",
        "**CONCLUSIONS**\n",
        "\n",
        " # **<span style=\"color:#F7B2B0;\">IMPORTING LIBRARIES</span>**"
      ],
      "metadata": {
        "id": "2bTaVzHmT-P1"
      }
    },
    {
      "cell_type": "code",
      "source": [
        "# Importing Libraries\n",
        "import numpy as np\n",
        "import pandas as pd\n",
        "import matplotlib.pyplot as plt\n",
        "import seaborn as sns\n",
        "from sklearn.model_selection import train_test_split\n",
        "from sklearn import preprocessing\n",
        "from sklearn.preprocessing import StandardScaler\n",
        "from sklearn.pipeline import Pipeline\n",
        "from sklearn.linear_model import LogisticRegression\n",
        "from sklearn.tree import DecisionTreeClassifier\n",
        "from sklearn.ensemble import RandomForestClassifier\n",
        "from sklearn.svm import SVC\n",
        "from sklearn.svm import LinearSVC\n",
        "from sklearn.model_selection import GridSearchCV\n",
        "from sklearn.model_selection import cross_val_score\n",
        "from sklearn.metrics import precision_score, recall_score, confusion_matrix, classification_report, accuracy_score, f1_score\n",
        "from sklearn import metrics\n",
        "from sklearn.metrics import roc_curve, auc, roc_auc_score\n",
        "np.random.seed(0)"
      ],
      "metadata": {
        "execution": {
          "iopub.status.busy": "2021-05-27T10:21:18.291333Z",
          "iopub.execute_input": "2021-05-27T10:21:18.292278Z",
          "iopub.status.idle": "2021-05-27T10:21:19.888189Z",
          "shell.execute_reply.started": "2021-05-27T10:21:18.292218Z",
          "shell.execute_reply": "2021-05-27T10:21:19.886985Z"
        },
        "trusted": true,
        "id": "PgZI2FonT-P2"
      },
      "execution_count": 1,
      "outputs": []
    },
    {
      "cell_type": "markdown",
      "source": [
        "# **<span style=\"color:#F7B2B0;\">LOADING DATA</span>**"
      ],
      "metadata": {
        "id": "sFcqPInnT-P2"
      }
    },
    {
      "cell_type": "code",
      "source": [
        "url = 'https://raw.githubusercontent.com/aliraza33833/CE880/main/fetal_health.csv'\n",
        "data = pd.read_csv(url, encoding='unicode_escape')\n",
        "data.head()"
      ],
      "metadata": {
        "_uuid": "d629ff2d2480ee46fbb7e2d37f6b5fab8052498a",
        "_cell_guid": "79c7e3d0-c299-4dcb-8224-4455121ee9b0",
        "execution": {
          "iopub.status.busy": "2021-05-27T10:21:19.889886Z",
          "iopub.execute_input": "2021-05-27T10:21:19.890257Z",
          "iopub.status.idle": "2021-05-27T10:21:19.960687Z",
          "shell.execute_reply.started": "2021-05-27T10:21:19.890221Z",
          "shell.execute_reply": "2021-05-27T10:21:19.959666Z"
        },
        "trusted": true,
        "colab": {
          "base_uri": "https://localhost:8080/",
          "height": 287
        },
        "id": "1FUdTHzpT-P3",
        "outputId": "05321045-6036-4314-ad7f-4aacb1a4612f"
      },
      "execution_count": 4,
      "outputs": [
        {
          "output_type": "execute_result",
          "data": {
            "text/html": [
              "\n",
              "  <div id=\"df-77ef7143-b741-495a-aa52-b469872a6c5d\">\n",
              "    <div class=\"colab-df-container\">\n",
              "      <div>\n",
              "<style scoped>\n",
              "    .dataframe tbody tr th:only-of-type {\n",
              "        vertical-align: middle;\n",
              "    }\n",
              "\n",
              "    .dataframe tbody tr th {\n",
              "        vertical-align: top;\n",
              "    }\n",
              "\n",
              "    .dataframe thead th {\n",
              "        text-align: right;\n",
              "    }\n",
              "</style>\n",
              "<table border=\"1\" class=\"dataframe\">\n",
              "  <thead>\n",
              "    <tr style=\"text-align: right;\">\n",
              "      <th></th>\n",
              "      <th>baseline value</th>\n",
              "      <th>accelerations</th>\n",
              "      <th>fetal_movement</th>\n",
              "      <th>uterine_contractions</th>\n",
              "      <th>light_decelerations</th>\n",
              "      <th>severe_decelerations</th>\n",
              "      <th>prolongued_decelerations</th>\n",
              "      <th>abnormal_short_term_variability</th>\n",
              "      <th>mean_value_of_short_term_variability</th>\n",
              "      <th>percentage_of_time_with_abnormal_long_term_variability</th>\n",
              "      <th>mean_value_of_long_term_variability</th>\n",
              "      <th>histogram_width</th>\n",
              "      <th>histogram_min</th>\n",
              "      <th>histogram_max</th>\n",
              "      <th>histogram_number_of_peaks</th>\n",
              "      <th>histogram_number_of_zeroes</th>\n",
              "      <th>histogram_mode</th>\n",
              "      <th>histogram_mean</th>\n",
              "      <th>histogram_median</th>\n",
              "      <th>histogram_variance</th>\n",
              "      <th>histogram_tendency</th>\n",
              "      <th>fetal_health</th>\n",
              "    </tr>\n",
              "  </thead>\n",
              "  <tbody>\n",
              "    <tr>\n",
              "      <th>0</th>\n",
              "      <td>120.0</td>\n",
              "      <td>0.000</td>\n",
              "      <td>0.0</td>\n",
              "      <td>0.000</td>\n",
              "      <td>0.000</td>\n",
              "      <td>0.0</td>\n",
              "      <td>0.0</td>\n",
              "      <td>73.0</td>\n",
              "      <td>0.5</td>\n",
              "      <td>43.0</td>\n",
              "      <td>2.4</td>\n",
              "      <td>64.0</td>\n",
              "      <td>62.0</td>\n",
              "      <td>126.0</td>\n",
              "      <td>2.0</td>\n",
              "      <td>0.0</td>\n",
              "      <td>120.0</td>\n",
              "      <td>137.0</td>\n",
              "      <td>121.0</td>\n",
              "      <td>73.0</td>\n",
              "      <td>1.0</td>\n",
              "      <td>2.0</td>\n",
              "    </tr>\n",
              "    <tr>\n",
              "      <th>1</th>\n",
              "      <td>132.0</td>\n",
              "      <td>0.006</td>\n",
              "      <td>0.0</td>\n",
              "      <td>0.006</td>\n",
              "      <td>0.003</td>\n",
              "      <td>0.0</td>\n",
              "      <td>0.0</td>\n",
              "      <td>17.0</td>\n",
              "      <td>2.1</td>\n",
              "      <td>0.0</td>\n",
              "      <td>10.4</td>\n",
              "      <td>130.0</td>\n",
              "      <td>68.0</td>\n",
              "      <td>198.0</td>\n",
              "      <td>6.0</td>\n",
              "      <td>1.0</td>\n",
              "      <td>141.0</td>\n",
              "      <td>136.0</td>\n",
              "      <td>140.0</td>\n",
              "      <td>12.0</td>\n",
              "      <td>0.0</td>\n",
              "      <td>1.0</td>\n",
              "    </tr>\n",
              "    <tr>\n",
              "      <th>2</th>\n",
              "      <td>133.0</td>\n",
              "      <td>0.003</td>\n",
              "      <td>0.0</td>\n",
              "      <td>0.008</td>\n",
              "      <td>0.003</td>\n",
              "      <td>0.0</td>\n",
              "      <td>0.0</td>\n",
              "      <td>16.0</td>\n",
              "      <td>2.1</td>\n",
              "      <td>0.0</td>\n",
              "      <td>13.4</td>\n",
              "      <td>130.0</td>\n",
              "      <td>68.0</td>\n",
              "      <td>198.0</td>\n",
              "      <td>5.0</td>\n",
              "      <td>1.0</td>\n",
              "      <td>141.0</td>\n",
              "      <td>135.0</td>\n",
              "      <td>138.0</td>\n",
              "      <td>13.0</td>\n",
              "      <td>0.0</td>\n",
              "      <td>1.0</td>\n",
              "    </tr>\n",
              "    <tr>\n",
              "      <th>3</th>\n",
              "      <td>134.0</td>\n",
              "      <td>0.003</td>\n",
              "      <td>0.0</td>\n",
              "      <td>0.008</td>\n",
              "      <td>0.003</td>\n",
              "      <td>0.0</td>\n",
              "      <td>0.0</td>\n",
              "      <td>16.0</td>\n",
              "      <td>2.4</td>\n",
              "      <td>0.0</td>\n",
              "      <td>23.0</td>\n",
              "      <td>117.0</td>\n",
              "      <td>53.0</td>\n",
              "      <td>170.0</td>\n",
              "      <td>11.0</td>\n",
              "      <td>0.0</td>\n",
              "      <td>137.0</td>\n",
              "      <td>134.0</td>\n",
              "      <td>137.0</td>\n",
              "      <td>13.0</td>\n",
              "      <td>1.0</td>\n",
              "      <td>1.0</td>\n",
              "    </tr>\n",
              "    <tr>\n",
              "      <th>4</th>\n",
              "      <td>132.0</td>\n",
              "      <td>0.007</td>\n",
              "      <td>0.0</td>\n",
              "      <td>0.008</td>\n",
              "      <td>0.000</td>\n",
              "      <td>0.0</td>\n",
              "      <td>0.0</td>\n",
              "      <td>16.0</td>\n",
              "      <td>2.4</td>\n",
              "      <td>0.0</td>\n",
              "      <td>19.9</td>\n",
              "      <td>117.0</td>\n",
              "      <td>53.0</td>\n",
              "      <td>170.0</td>\n",
              "      <td>9.0</td>\n",
              "      <td>0.0</td>\n",
              "      <td>137.0</td>\n",
              "      <td>136.0</td>\n",
              "      <td>138.0</td>\n",
              "      <td>11.0</td>\n",
              "      <td>1.0</td>\n",
              "      <td>1.0</td>\n",
              "    </tr>\n",
              "  </tbody>\n",
              "</table>\n",
              "</div>\n",
              "      <button class=\"colab-df-convert\" onclick=\"convertToInteractive('df-77ef7143-b741-495a-aa52-b469872a6c5d')\"\n",
              "              title=\"Convert this dataframe to an interactive table.\"\n",
              "              style=\"display:none;\">\n",
              "        \n",
              "  <svg xmlns=\"http://www.w3.org/2000/svg\" height=\"24px\"viewBox=\"0 0 24 24\"\n",
              "       width=\"24px\">\n",
              "    <path d=\"M0 0h24v24H0V0z\" fill=\"none\"/>\n",
              "    <path d=\"M18.56 5.44l.94 2.06.94-2.06 2.06-.94-2.06-.94-.94-2.06-.94 2.06-2.06.94zm-11 1L8.5 8.5l.94-2.06 2.06-.94-2.06-.94L8.5 2.5l-.94 2.06-2.06.94zm10 10l.94 2.06.94-2.06 2.06-.94-2.06-.94-.94-2.06-.94 2.06-2.06.94z\"/><path d=\"M17.41 7.96l-1.37-1.37c-.4-.4-.92-.59-1.43-.59-.52 0-1.04.2-1.43.59L10.3 9.45l-7.72 7.72c-.78.78-.78 2.05 0 2.83L4 21.41c.39.39.9.59 1.41.59.51 0 1.02-.2 1.41-.59l7.78-7.78 2.81-2.81c.8-.78.8-2.07 0-2.86zM5.41 20L4 18.59l7.72-7.72 1.47 1.35L5.41 20z\"/>\n",
              "  </svg>\n",
              "      </button>\n",
              "      \n",
              "  <style>\n",
              "    .colab-df-container {\n",
              "      display:flex;\n",
              "      flex-wrap:wrap;\n",
              "      gap: 12px;\n",
              "    }\n",
              "\n",
              "    .colab-df-convert {\n",
              "      background-color: #E8F0FE;\n",
              "      border: none;\n",
              "      border-radius: 50%;\n",
              "      cursor: pointer;\n",
              "      display: none;\n",
              "      fill: #1967D2;\n",
              "      height: 32px;\n",
              "      padding: 0 0 0 0;\n",
              "      width: 32px;\n",
              "    }\n",
              "\n",
              "    .colab-df-convert:hover {\n",
              "      background-color: #E2EBFA;\n",
              "      box-shadow: 0px 1px 2px rgba(60, 64, 67, 0.3), 0px 1px 3px 1px rgba(60, 64, 67, 0.15);\n",
              "      fill: #174EA6;\n",
              "    }\n",
              "\n",
              "    [theme=dark] .colab-df-convert {\n",
              "      background-color: #3B4455;\n",
              "      fill: #D2E3FC;\n",
              "    }\n",
              "\n",
              "    [theme=dark] .colab-df-convert:hover {\n",
              "      background-color: #434B5C;\n",
              "      box-shadow: 0px 1px 3px 1px rgba(0, 0, 0, 0.15);\n",
              "      filter: drop-shadow(0px 1px 2px rgba(0, 0, 0, 0.3));\n",
              "      fill: #FFFFFF;\n",
              "    }\n",
              "  </style>\n",
              "\n",
              "      <script>\n",
              "        const buttonEl =\n",
              "          document.querySelector('#df-77ef7143-b741-495a-aa52-b469872a6c5d button.colab-df-convert');\n",
              "        buttonEl.style.display =\n",
              "          google.colab.kernel.accessAllowed ? 'block' : 'none';\n",
              "\n",
              "        async function convertToInteractive(key) {\n",
              "          const element = document.querySelector('#df-77ef7143-b741-495a-aa52-b469872a6c5d');\n",
              "          const dataTable =\n",
              "            await google.colab.kernel.invokeFunction('convertToInteractive',\n",
              "                                                     [key], {});\n",
              "          if (!dataTable) return;\n",
              "\n",
              "          const docLinkHtml = 'Like what you see? Visit the ' +\n",
              "            '<a target=\"_blank\" href=https://colab.research.google.com/notebooks/data_table.ipynb>data table notebook</a>'\n",
              "            + ' to learn more about interactive tables.';\n",
              "          element.innerHTML = '';\n",
              "          dataTable['output_type'] = 'display_data';\n",
              "          await google.colab.output.renderOutput(dataTable, element);\n",
              "          const docLink = document.createElement('div');\n",
              "          docLink.innerHTML = docLinkHtml;\n",
              "          element.appendChild(docLink);\n",
              "        }\n",
              "      </script>\n",
              "    </div>\n",
              "  </div>\n",
              "  "
            ],
            "text/plain": [
              "   baseline value  accelerations  ...  histogram_tendency  fetal_health\n",
              "0           120.0          0.000  ...                 1.0           2.0\n",
              "1           132.0          0.006  ...                 0.0           1.0\n",
              "2           133.0          0.003  ...                 0.0           1.0\n",
              "3           134.0          0.003  ...                 1.0           1.0\n",
              "4           132.0          0.007  ...                 1.0           1.0\n",
              "\n",
              "[5 rows x 22 columns]"
            ]
          },
          "metadata": {},
          "execution_count": 4
        }
      ]
    },
    {
      "cell_type": "code",
      "source": [
        "data.info()"
      ],
      "metadata": {
        "execution": {
          "iopub.status.busy": "2021-05-27T10:21:19.962204Z",
          "iopub.execute_input": "2021-05-27T10:21:19.962585Z",
          "iopub.status.idle": "2021-05-27T10:21:19.983141Z",
          "shell.execute_reply.started": "2021-05-27T10:21:19.962508Z",
          "shell.execute_reply": "2021-05-27T10:21:19.981764Z"
        },
        "trusted": true,
        "colab": {
          "base_uri": "https://localhost:8080/"
        },
        "id": "hRtlvm3dT-P3",
        "outputId": "bbdef43a-fc77-4534-aa3a-db55799e1bf0"
      },
      "execution_count": 5,
      "outputs": [
        {
          "output_type": "stream",
          "name": "stdout",
          "text": [
            "<class 'pandas.core.frame.DataFrame'>\n",
            "RangeIndex: 2126 entries, 0 to 2125\n",
            "Data columns (total 22 columns):\n",
            " #   Column                                                  Non-Null Count  Dtype  \n",
            "---  ------                                                  --------------  -----  \n",
            " 0   baseline value                                          2126 non-null   float64\n",
            " 1   accelerations                                           2126 non-null   float64\n",
            " 2   fetal_movement                                          2126 non-null   float64\n",
            " 3   uterine_contractions                                    2126 non-null   float64\n",
            " 4   light_decelerations                                     2126 non-null   float64\n",
            " 5   severe_decelerations                                    2126 non-null   float64\n",
            " 6   prolongued_decelerations                                2126 non-null   float64\n",
            " 7   abnormal_short_term_variability                         2126 non-null   float64\n",
            " 8   mean_value_of_short_term_variability                    2126 non-null   float64\n",
            " 9   percentage_of_time_with_abnormal_long_term_variability  2126 non-null   float64\n",
            " 10  mean_value_of_long_term_variability                     2126 non-null   float64\n",
            " 11  histogram_width                                         2126 non-null   float64\n",
            " 12  histogram_min                                           2126 non-null   float64\n",
            " 13  histogram_max                                           2126 non-null   float64\n",
            " 14  histogram_number_of_peaks                               2126 non-null   float64\n",
            " 15  histogram_number_of_zeroes                              2126 non-null   float64\n",
            " 16  histogram_mode                                          2126 non-null   float64\n",
            " 17  histogram_mean                                          2126 non-null   float64\n",
            " 18  histogram_median                                        2126 non-null   float64\n",
            " 19  histogram_variance                                      2126 non-null   float64\n",
            " 20  histogram_tendency                                      2126 non-null   float64\n",
            " 21  fetal_health                                            2126 non-null   float64\n",
            "dtypes: float64(22)\n",
            "memory usage: 365.5 KB\n"
          ]
        }
      ]
    },
    {
      "cell_type": "code",
      "source": [
        "data.describe().T"
      ],
      "metadata": {
        "execution": {
          "iopub.status.busy": "2021-05-27T10:21:19.984701Z",
          "iopub.execute_input": "2021-05-27T10:21:19.98506Z",
          "iopub.status.idle": "2021-05-27T10:21:20.06631Z",
          "shell.execute_reply.started": "2021-05-27T10:21:19.985023Z",
          "shell.execute_reply": "2021-05-27T10:21:20.064815Z"
        },
        "trusted": true,
        "colab": {
          "base_uri": "https://localhost:8080/",
          "height": 739
        },
        "id": "bhVj7p7sT-P3",
        "outputId": "f12a560f-a7a2-4743-e535-d2eb06841180"
      },
      "execution_count": 9,
      "outputs": [
        {
          "output_type": "execute_result",
          "data": {
            "text/html": [
              "\n",
              "  <div id=\"df-bd7955d8-8b80-461a-8fe5-b76af79f2ee2\">\n",
              "    <div class=\"colab-df-container\">\n",
              "      <div>\n",
              "<style scoped>\n",
              "    .dataframe tbody tr th:only-of-type {\n",
              "        vertical-align: middle;\n",
              "    }\n",
              "\n",
              "    .dataframe tbody tr th {\n",
              "        vertical-align: top;\n",
              "    }\n",
              "\n",
              "    .dataframe thead th {\n",
              "        text-align: right;\n",
              "    }\n",
              "</style>\n",
              "<table border=\"1\" class=\"dataframe\">\n",
              "  <thead>\n",
              "    <tr style=\"text-align: right;\">\n",
              "      <th></th>\n",
              "      <th>count</th>\n",
              "      <th>mean</th>\n",
              "      <th>std</th>\n",
              "      <th>min</th>\n",
              "      <th>25%</th>\n",
              "      <th>50%</th>\n",
              "      <th>75%</th>\n",
              "      <th>max</th>\n",
              "    </tr>\n",
              "  </thead>\n",
              "  <tbody>\n",
              "    <tr>\n",
              "      <th>baseline value</th>\n",
              "      <td>2126.0</td>\n",
              "      <td>133.303857</td>\n",
              "      <td>9.840844</td>\n",
              "      <td>106.0</td>\n",
              "      <td>126.000</td>\n",
              "      <td>133.000</td>\n",
              "      <td>140.000</td>\n",
              "      <td>160.000</td>\n",
              "    </tr>\n",
              "    <tr>\n",
              "      <th>accelerations</th>\n",
              "      <td>2126.0</td>\n",
              "      <td>0.003178</td>\n",
              "      <td>0.003866</td>\n",
              "      <td>0.0</td>\n",
              "      <td>0.000</td>\n",
              "      <td>0.002</td>\n",
              "      <td>0.006</td>\n",
              "      <td>0.019</td>\n",
              "    </tr>\n",
              "    <tr>\n",
              "      <th>fetal_movement</th>\n",
              "      <td>2126.0</td>\n",
              "      <td>0.009481</td>\n",
              "      <td>0.046666</td>\n",
              "      <td>0.0</td>\n",
              "      <td>0.000</td>\n",
              "      <td>0.000</td>\n",
              "      <td>0.003</td>\n",
              "      <td>0.481</td>\n",
              "    </tr>\n",
              "    <tr>\n",
              "      <th>uterine_contractions</th>\n",
              "      <td>2126.0</td>\n",
              "      <td>0.004366</td>\n",
              "      <td>0.002946</td>\n",
              "      <td>0.0</td>\n",
              "      <td>0.002</td>\n",
              "      <td>0.004</td>\n",
              "      <td>0.007</td>\n",
              "      <td>0.015</td>\n",
              "    </tr>\n",
              "    <tr>\n",
              "      <th>light_decelerations</th>\n",
              "      <td>2126.0</td>\n",
              "      <td>0.001889</td>\n",
              "      <td>0.002960</td>\n",
              "      <td>0.0</td>\n",
              "      <td>0.000</td>\n",
              "      <td>0.000</td>\n",
              "      <td>0.003</td>\n",
              "      <td>0.015</td>\n",
              "    </tr>\n",
              "    <tr>\n",
              "      <th>severe_decelerations</th>\n",
              "      <td>2126.0</td>\n",
              "      <td>0.000003</td>\n",
              "      <td>0.000057</td>\n",
              "      <td>0.0</td>\n",
              "      <td>0.000</td>\n",
              "      <td>0.000</td>\n",
              "      <td>0.000</td>\n",
              "      <td>0.001</td>\n",
              "    </tr>\n",
              "    <tr>\n",
              "      <th>prolongued_decelerations</th>\n",
              "      <td>2126.0</td>\n",
              "      <td>0.000159</td>\n",
              "      <td>0.000590</td>\n",
              "      <td>0.0</td>\n",
              "      <td>0.000</td>\n",
              "      <td>0.000</td>\n",
              "      <td>0.000</td>\n",
              "      <td>0.005</td>\n",
              "    </tr>\n",
              "    <tr>\n",
              "      <th>abnormal_short_term_variability</th>\n",
              "      <td>2126.0</td>\n",
              "      <td>46.990122</td>\n",
              "      <td>17.192814</td>\n",
              "      <td>12.0</td>\n",
              "      <td>32.000</td>\n",
              "      <td>49.000</td>\n",
              "      <td>61.000</td>\n",
              "      <td>87.000</td>\n",
              "    </tr>\n",
              "    <tr>\n",
              "      <th>mean_value_of_short_term_variability</th>\n",
              "      <td>2126.0</td>\n",
              "      <td>1.332785</td>\n",
              "      <td>0.883241</td>\n",
              "      <td>0.2</td>\n",
              "      <td>0.700</td>\n",
              "      <td>1.200</td>\n",
              "      <td>1.700</td>\n",
              "      <td>7.000</td>\n",
              "    </tr>\n",
              "    <tr>\n",
              "      <th>percentage_of_time_with_abnormal_long_term_variability</th>\n",
              "      <td>2126.0</td>\n",
              "      <td>9.846660</td>\n",
              "      <td>18.396880</td>\n",
              "      <td>0.0</td>\n",
              "      <td>0.000</td>\n",
              "      <td>0.000</td>\n",
              "      <td>11.000</td>\n",
              "      <td>91.000</td>\n",
              "    </tr>\n",
              "    <tr>\n",
              "      <th>mean_value_of_long_term_variability</th>\n",
              "      <td>2126.0</td>\n",
              "      <td>8.187629</td>\n",
              "      <td>5.628247</td>\n",
              "      <td>0.0</td>\n",
              "      <td>4.600</td>\n",
              "      <td>7.400</td>\n",
              "      <td>10.800</td>\n",
              "      <td>50.700</td>\n",
              "    </tr>\n",
              "    <tr>\n",
              "      <th>histogram_width</th>\n",
              "      <td>2126.0</td>\n",
              "      <td>70.445908</td>\n",
              "      <td>38.955693</td>\n",
              "      <td>3.0</td>\n",
              "      <td>37.000</td>\n",
              "      <td>67.500</td>\n",
              "      <td>100.000</td>\n",
              "      <td>180.000</td>\n",
              "    </tr>\n",
              "    <tr>\n",
              "      <th>histogram_min</th>\n",
              "      <td>2126.0</td>\n",
              "      <td>93.579492</td>\n",
              "      <td>29.560212</td>\n",
              "      <td>50.0</td>\n",
              "      <td>67.000</td>\n",
              "      <td>93.000</td>\n",
              "      <td>120.000</td>\n",
              "      <td>159.000</td>\n",
              "    </tr>\n",
              "    <tr>\n",
              "      <th>histogram_max</th>\n",
              "      <td>2126.0</td>\n",
              "      <td>164.025400</td>\n",
              "      <td>17.944183</td>\n",
              "      <td>122.0</td>\n",
              "      <td>152.000</td>\n",
              "      <td>162.000</td>\n",
              "      <td>174.000</td>\n",
              "      <td>238.000</td>\n",
              "    </tr>\n",
              "    <tr>\n",
              "      <th>histogram_number_of_peaks</th>\n",
              "      <td>2126.0</td>\n",
              "      <td>4.068203</td>\n",
              "      <td>2.949386</td>\n",
              "      <td>0.0</td>\n",
              "      <td>2.000</td>\n",
              "      <td>3.000</td>\n",
              "      <td>6.000</td>\n",
              "      <td>18.000</td>\n",
              "    </tr>\n",
              "    <tr>\n",
              "      <th>histogram_number_of_zeroes</th>\n",
              "      <td>2126.0</td>\n",
              "      <td>0.323612</td>\n",
              "      <td>0.706059</td>\n",
              "      <td>0.0</td>\n",
              "      <td>0.000</td>\n",
              "      <td>0.000</td>\n",
              "      <td>0.000</td>\n",
              "      <td>10.000</td>\n",
              "    </tr>\n",
              "    <tr>\n",
              "      <th>histogram_mode</th>\n",
              "      <td>2126.0</td>\n",
              "      <td>137.452023</td>\n",
              "      <td>16.381289</td>\n",
              "      <td>60.0</td>\n",
              "      <td>129.000</td>\n",
              "      <td>139.000</td>\n",
              "      <td>148.000</td>\n",
              "      <td>187.000</td>\n",
              "    </tr>\n",
              "    <tr>\n",
              "      <th>histogram_mean</th>\n",
              "      <td>2126.0</td>\n",
              "      <td>134.610536</td>\n",
              "      <td>15.593596</td>\n",
              "      <td>73.0</td>\n",
              "      <td>125.000</td>\n",
              "      <td>136.000</td>\n",
              "      <td>145.000</td>\n",
              "      <td>182.000</td>\n",
              "    </tr>\n",
              "    <tr>\n",
              "      <th>histogram_median</th>\n",
              "      <td>2126.0</td>\n",
              "      <td>138.090310</td>\n",
              "      <td>14.466589</td>\n",
              "      <td>77.0</td>\n",
              "      <td>129.000</td>\n",
              "      <td>139.000</td>\n",
              "      <td>148.000</td>\n",
              "      <td>186.000</td>\n",
              "    </tr>\n",
              "    <tr>\n",
              "      <th>histogram_variance</th>\n",
              "      <td>2126.0</td>\n",
              "      <td>18.808090</td>\n",
              "      <td>28.977636</td>\n",
              "      <td>0.0</td>\n",
              "      <td>2.000</td>\n",
              "      <td>7.000</td>\n",
              "      <td>24.000</td>\n",
              "      <td>269.000</td>\n",
              "    </tr>\n",
              "    <tr>\n",
              "      <th>histogram_tendency</th>\n",
              "      <td>2126.0</td>\n",
              "      <td>0.320320</td>\n",
              "      <td>0.610829</td>\n",
              "      <td>-1.0</td>\n",
              "      <td>0.000</td>\n",
              "      <td>0.000</td>\n",
              "      <td>1.000</td>\n",
              "      <td>1.000</td>\n",
              "    </tr>\n",
              "    <tr>\n",
              "      <th>fetal_health</th>\n",
              "      <td>2126.0</td>\n",
              "      <td>1.304327</td>\n",
              "      <td>0.614377</td>\n",
              "      <td>1.0</td>\n",
              "      <td>1.000</td>\n",
              "      <td>1.000</td>\n",
              "      <td>1.000</td>\n",
              "      <td>3.000</td>\n",
              "    </tr>\n",
              "  </tbody>\n",
              "</table>\n",
              "</div>\n",
              "      <button class=\"colab-df-convert\" onclick=\"convertToInteractive('df-bd7955d8-8b80-461a-8fe5-b76af79f2ee2')\"\n",
              "              title=\"Convert this dataframe to an interactive table.\"\n",
              "              style=\"display:none;\">\n",
              "        \n",
              "  <svg xmlns=\"http://www.w3.org/2000/svg\" height=\"24px\"viewBox=\"0 0 24 24\"\n",
              "       width=\"24px\">\n",
              "    <path d=\"M0 0h24v24H0V0z\" fill=\"none\"/>\n",
              "    <path d=\"M18.56 5.44l.94 2.06.94-2.06 2.06-.94-2.06-.94-.94-2.06-.94 2.06-2.06.94zm-11 1L8.5 8.5l.94-2.06 2.06-.94-2.06-.94L8.5 2.5l-.94 2.06-2.06.94zm10 10l.94 2.06.94-2.06 2.06-.94-2.06-.94-.94-2.06-.94 2.06-2.06.94z\"/><path d=\"M17.41 7.96l-1.37-1.37c-.4-.4-.92-.59-1.43-.59-.52 0-1.04.2-1.43.59L10.3 9.45l-7.72 7.72c-.78.78-.78 2.05 0 2.83L4 21.41c.39.39.9.59 1.41.59.51 0 1.02-.2 1.41-.59l7.78-7.78 2.81-2.81c.8-.78.8-2.07 0-2.86zM5.41 20L4 18.59l7.72-7.72 1.47 1.35L5.41 20z\"/>\n",
              "  </svg>\n",
              "      </button>\n",
              "      \n",
              "  <style>\n",
              "    .colab-df-container {\n",
              "      display:flex;\n",
              "      flex-wrap:wrap;\n",
              "      gap: 12px;\n",
              "    }\n",
              "\n",
              "    .colab-df-convert {\n",
              "      background-color: #E8F0FE;\n",
              "      border: none;\n",
              "      border-radius: 50%;\n",
              "      cursor: pointer;\n",
              "      display: none;\n",
              "      fill: #1967D2;\n",
              "      height: 32px;\n",
              "      padding: 0 0 0 0;\n",
              "      width: 32px;\n",
              "    }\n",
              "\n",
              "    .colab-df-convert:hover {\n",
              "      background-color: #E2EBFA;\n",
              "      box-shadow: 0px 1px 2px rgba(60, 64, 67, 0.3), 0px 1px 3px 1px rgba(60, 64, 67, 0.15);\n",
              "      fill: #174EA6;\n",
              "    }\n",
              "\n",
              "    [theme=dark] .colab-df-convert {\n",
              "      background-color: #3B4455;\n",
              "      fill: #D2E3FC;\n",
              "    }\n",
              "\n",
              "    [theme=dark] .colab-df-convert:hover {\n",
              "      background-color: #434B5C;\n",
              "      box-shadow: 0px 1px 3px 1px rgba(0, 0, 0, 0.15);\n",
              "      filter: drop-shadow(0px 1px 2px rgba(0, 0, 0, 0.3));\n",
              "      fill: #FFFFFF;\n",
              "    }\n",
              "  </style>\n",
              "\n",
              "      <script>\n",
              "        const buttonEl =\n",
              "          document.querySelector('#df-bd7955d8-8b80-461a-8fe5-b76af79f2ee2 button.colab-df-convert');\n",
              "        buttonEl.style.display =\n",
              "          google.colab.kernel.accessAllowed ? 'block' : 'none';\n",
              "\n",
              "        async function convertToInteractive(key) {\n",
              "          const element = document.querySelector('#df-bd7955d8-8b80-461a-8fe5-b76af79f2ee2');\n",
              "          const dataTable =\n",
              "            await google.colab.kernel.invokeFunction('convertToInteractive',\n",
              "                                                     [key], {});\n",
              "          if (!dataTable) return;\n",
              "\n",
              "          const docLinkHtml = 'Like what you see? Visit the ' +\n",
              "            '<a target=\"_blank\" href=https://colab.research.google.com/notebooks/data_table.ipynb>data table notebook</a>'\n",
              "            + ' to learn more about interactive tables.';\n",
              "          element.innerHTML = '';\n",
              "          dataTable['output_type'] = 'display_data';\n",
              "          await google.colab.output.renderOutput(dataTable, element);\n",
              "          const docLink = document.createElement('div');\n",
              "          docLink.innerHTML = docLinkHtml;\n",
              "          element.appendChild(docLink);\n",
              "        }\n",
              "      </script>\n",
              "    </div>\n",
              "  </div>\n",
              "  "
            ],
            "text/plain": [
              "                                                     count  ...      max\n",
              "baseline value                                      2126.0  ...  160.000\n",
              "accelerations                                       2126.0  ...    0.019\n",
              "fetal_movement                                      2126.0  ...    0.481\n",
              "uterine_contractions                                2126.0  ...    0.015\n",
              "light_decelerations                                 2126.0  ...    0.015\n",
              "severe_decelerations                                2126.0  ...    0.001\n",
              "prolongued_decelerations                            2126.0  ...    0.005\n",
              "abnormal_short_term_variability                     2126.0  ...   87.000\n",
              "mean_value_of_short_term_variability                2126.0  ...    7.000\n",
              "percentage_of_time_with_abnormal_long_term_vari...  2126.0  ...   91.000\n",
              "mean_value_of_long_term_variability                 2126.0  ...   50.700\n",
              "histogram_width                                     2126.0  ...  180.000\n",
              "histogram_min                                       2126.0  ...  159.000\n",
              "histogram_max                                       2126.0  ...  238.000\n",
              "histogram_number_of_peaks                           2126.0  ...   18.000\n",
              "histogram_number_of_zeroes                          2126.0  ...   10.000\n",
              "histogram_mode                                      2126.0  ...  187.000\n",
              "histogram_mean                                      2126.0  ...  182.000\n",
              "histogram_median                                    2126.0  ...  186.000\n",
              "histogram_variance                                  2126.0  ...  269.000\n",
              "histogram_tendency                                  2126.0  ...    1.000\n",
              "fetal_health                                        2126.0  ...    3.000\n",
              "\n",
              "[22 rows x 8 columns]"
            ]
          },
          "metadata": {},
          "execution_count": 9
        }
      ]
    },
    {
      "cell_type": "markdown",
      "source": [
        "**On This Dataset**\n",
        "**Cardiotocograms (CTGs)** are a simple and cost accessible option to assess fetal health, allowing healthcare professionals to take action in order to prevent child and maternal mortality. The equipment itself works by sending ultrasound pulses and reading its response, thus shedding light on fetal heart rate (FHR), fetal movements, uterine contractions and more.\n",
        "\n",
        "This dataset contains 2126 records of features extracted from Cardiotocogram exams, which were then classified by expert obstetrician into 3 classes:\n",
        "\n",
        "1. Normal\n",
        "1. Suspect\n",
        "1. Pathological\n",
        "\n",
        "**Features**\n",
        "\n",
        "* **'baseline value'** FHR baseline (beats per minute)\n",
        "* **'accelerations'** Number of accelerations per second\n",
        "* **'fetal_movement'** Number of fetal movements per second\n",
        "* **'uterine_contractions'** Number of uterine contractions per second\n",
        "* **'light_decelerations'** Number of light decelerations per second\n",
        "* **'severe_decelerations'** Number of severe decelerations per second\n",
        "* **'prolongued_decelerations'** Number of prolonged decelerations per second\n",
        "* **'abnormal_short_term_variability'** Percentage of time with abnormal short term variability\n",
        "* **'mean_value_of_short_term_variability'** Mean value of short term variability\n",
        "* **'percentage_of_time_with_abnormal_long_term_variability'** Percentage of time with abnormal long term variability\n",
        "* **'mean_value_of_long_term_variability'** Mean value of long term variability \n",
        "* **'histogram_width'** Width of FHR histogram\n",
        "* **'histogram_min' Minimum** (low frequency) of FHR histogram\n",
        "* **'histogram_max' Maximum** (high frequency) of FHR histogram\n",
        "* **'histogram_number_of_peaks'** Number of histogram peaks\n",
        "* **'histogram_number_of_zeroes'** Number of histogram zeros\n",
        "* **'histogram_mode'** Histogram mode\n",
        "* **'histogram_mean'** Histogram mean\n",
        "* **'histogram_median'** Histogram median\n",
        "* **'histogram_variance'** Histogram variance\n",
        "* **'histogram_tendency'** Histogram tendency\n",
        "\n",
        "* **Target**\n",
        "* **'fetal_health'** Tagged as 1 (Normal), 2 (Suspect) and 3 (Pathological)"
      ],
      "metadata": {
        "id": "LVbZrKPfT-P3"
      }
    },
    {
      "cell_type": "markdown",
      "source": [
        "# **<span style=\"color:#F7B2B0;\">DATA ANALYSIS</span>**\n",
        "\n",
        "**The analysis consist of:**\n",
        "* Count Plot\n",
        "* Corelation Heat Map\n",
        "* Implot\n",
        "* Swarm And Boxen Plot\n"
      ],
      "metadata": {
        "id": "yWXwv6u6T-P3"
      }
    },
    {
      "cell_type": "code",
      "source": [
        "#first of all let us evaluate the target and find out if our data is imbalanced or not\n",
        "\n",
        "colours=[\"#f7b2b0\",\"#8f7198\", \"#003f5c\"]\n",
        "sns.countplot(data= data, x=\"fetal_health\",palette=colours)"
      ],
      "metadata": {
        "execution": {
          "iopub.status.busy": "2021-05-27T10:21:20.071548Z",
          "iopub.execute_input": "2021-05-27T10:21:20.07194Z",
          "iopub.status.idle": "2021-05-27T10:21:20.279703Z",
          "shell.execute_reply.started": "2021-05-27T10:21:20.071904Z",
          "shell.execute_reply": "2021-05-27T10:21:20.278193Z"
        },
        "trusted": true,
        "colab": {
          "base_uri": "https://localhost:8080/",
          "height": 298
        },
        "id": "PWaGAlUdT-P3",
        "outputId": "794d74c8-60fe-42f3-b295-53dc60b7d0da"
      },
      "execution_count": 10,
      "outputs": [
        {
          "output_type": "execute_result",
          "data": {
            "text/plain": [
              "<matplotlib.axes._subplots.AxesSubplot at 0x7fe0de411bd0>"
            ]
          },
          "metadata": {},
          "execution_count": 10
        },
        {
          "output_type": "display_data",
          "data": {
            "image/png": "[encoded data removed]",
            "text/plain": [
              "<Figure size 432x288 with 1 Axes>"
            ]
          },
          "metadata": {
            "needs_background": "light"
          }
        }
      ]
    },
    {
      "cell_type": "markdown",
      "source": [
        "The count plot of targets indicates an imbalance in data. This is a case that tends to provide misleading classification accuracy. \n",
        "\n",
        "The performance measures that would provide better insight:\n",
        "* Confusion Matrix\n",
        "* Precision\n",
        "* Recall\n",
        "* F1 Score \n",
        "\n",
        "Let us evaluate the correlation matrix."
      ],
      "metadata": {
        "id": "4KVc1ilKT-P4"
      }
    },
    {
      "cell_type": "code",
      "source": [
        "#correlation matrix\n",
        "corrmat= data.corr()\n",
        "plt.figure(figsize=(15,15))  \n",
        "\n",
        "cmap = sns.diverging_palette(250, 10, s=80, l=55, n=9, as_cmap=True)\n",
        "\n",
        "sns.heatmap(corrmat,annot=True, cmap=cmap, center=0)"
      ],
      "metadata": {
        "execution": {
          "iopub.status.busy": "2021-05-27T10:21:20.281593Z",
          "iopub.execute_input": "2021-05-27T10:21:20.281956Z",
          "iopub.status.idle": "2021-05-27T10:21:22.440441Z",
          "shell.execute_reply.started": "2021-05-27T10:21:20.281921Z",
          "shell.execute_reply": "2021-05-27T10:21:22.439306Z"
        },
        "trusted": true,
        "id": "20dgFdWwT-P4"
      },
      "execution_count": null,
      "outputs": []
    },
    {
      "cell_type": "markdown",
      "source": [
        "Based on the correlation matix, it is clear that \"accelerations\",\"prolongued_decelerations\", \"abnormal_short_term_variability\", \"percentage_of_time_with_abnormal_long_term_variability\" and \"mean_value_of_long_term_variability\" are the features with higher correlation with fetal_health. Let's have a closer look at these with fetal_movement on y axis. This will provide a clearer picture of trends that indicate fetus health. "
      ],
      "metadata": {
        "id": "SM4W15RRT-P4"
      }
    },
    {
      "cell_type": "markdown",
      "source": [
        "**Accelerations Vs Fetal Movement by Fetal Health**"
      ],
      "metadata": {
        "id": "ZbPczPLLT-P4"
      }
    },
    {
      "cell_type": "code",
      "source": [
        "sns.lmplot(data =data,x=\"accelerations\",y=\"fetal_movement\",palette=colours, hue=\"fetal_health\",legend_out=False)\n",
        "plt.show()"
      ],
      "metadata": {
        "_kg_hide-input": true,
        "execution": {
          "iopub.status.busy": "2021-05-27T10:21:22.441887Z",
          "iopub.execute_input": "2021-05-27T10:21:22.442314Z",
          "iopub.status.idle": "2021-05-27T10:21:23.254319Z",
          "shell.execute_reply.started": "2021-05-27T10:21:22.442271Z",
          "shell.execute_reply": "2021-05-27T10:21:23.253396Z"
        },
        "trusted": true,
        "id": "S5KW7d6xT-P4"
      },
      "execution_count": null,
      "outputs": []
    },
    {
      "cell_type": "markdown",
      "source": [
        "**Prolongued Decelerations Vs Fetal Movement by Fetal Health**"
      ],
      "metadata": {
        "id": "26N5ixy7T-P4"
      }
    },
    {
      "cell_type": "code",
      "source": [
        "sns.lmplot(data =data,x=\"prolongued_decelerations\",y=\"fetal_movement\",palette=colours, hue=\"fetal_health\",legend_out=False)\n",
        "plt.show()"
      ],
      "metadata": {
        "_kg_hide-input": true,
        "execution": {
          "iopub.status.busy": "2021-05-27T10:21:23.25567Z",
          "iopub.execute_input": "2021-05-27T10:21:23.256008Z",
          "iopub.status.idle": "2021-05-27T10:21:24.002484Z",
          "shell.execute_reply.started": "2021-05-27T10:21:23.255954Z",
          "shell.execute_reply": "2021-05-27T10:21:24.001456Z"
        },
        "trusted": true,
        "id": "fY3huyCAT-P4"
      },
      "execution_count": null,
      "outputs": []
    },
    {
      "cell_type": "markdown",
      "source": [
        "**Abnormal Short Term Variability Vs Fetal Movement by Fetal Health**"
      ],
      "metadata": {
        "id": "uZMj4gYXT-P5"
      }
    },
    {
      "cell_type": "code",
      "source": [
        "sns.lmplot(data =data,x=\"abnormal_short_term_variability\",y=\"fetal_movement\",palette=colours, hue=\"fetal_health\",legend_out=False)\n",
        "plt.show()"
      ],
      "metadata": {
        "_kg_hide-input": true,
        "execution": {
          "iopub.status.busy": "2021-05-27T10:21:24.003624Z",
          "iopub.execute_input": "2021-05-27T10:21:24.003921Z",
          "iopub.status.idle": "2021-05-27T10:21:24.84528Z",
          "shell.execute_reply.started": "2021-05-27T10:21:24.003892Z",
          "shell.execute_reply": "2021-05-27T10:21:24.844395Z"
        },
        "trusted": true,
        "id": "hnplK9y6T-P5"
      },
      "execution_count": null,
      "outputs": []
    },
    {
      "cell_type": "markdown",
      "source": [
        "**Mean Value Of Long Term Variability Vs Fetal Movement by Fetal Health**"
      ],
      "metadata": {
        "id": "QzWCUNLnT-P5"
      }
    },
    {
      "cell_type": "code",
      "source": [
        "sns.lmplot(data =data,x=\"mean_value_of_long_term_variability\",y=\"fetal_movement\",palette=colours, hue=\"fetal_health\",legend_out=False)\n",
        "plt.show()"
      ],
      "metadata": {
        "_kg_hide-input": true,
        "execution": {
          "iopub.status.busy": "2021-05-27T10:21:24.846582Z",
          "iopub.execute_input": "2021-05-27T10:21:24.846866Z",
          "iopub.status.idle": "2021-05-27T10:21:25.590534Z",
          "shell.execute_reply.started": "2021-05-27T10:21:24.846838Z",
          "shell.execute_reply": "2021-05-27T10:21:25.589173Z"
        },
        "trusted": true,
        "id": "QAUK03rdT-P5"
      },
      "execution_count": null,
      "outputs": []
    },
    {
      "cell_type": "markdown",
      "source": [
        "We can see the rates of change of the above-mentioned values with each target show a specific trend. \n",
        "We can also spot outliers. Let's have a look at outliers on a more suitable plot."
      ],
      "metadata": {
        "id": "nC6AZ_irT-P5"
      }
    },
    {
      "cell_type": "code",
      "source": [
        "# columns for detailed visualisation\n",
        "cols=['baseline value', 'accelerations', 'fetal_movement',\n",
        "       'uterine_contractions', 'light_decelerations', 'severe_decelerations',\n",
        "       'prolongued_decelerations', 'abnormal_short_term_variability',\n",
        "       'mean_value_of_short_term_variability',\n",
        "       'percentage_of_time_with_abnormal_long_term_variability',\n",
        "       'mean_value_of_long_term_variability']"
      ],
      "metadata": {
        "_kg_hide-output": true,
        "_kg_hide-input": true,
        "execution": {
          "iopub.status.busy": "2021-05-27T10:21:25.59225Z",
          "iopub.execute_input": "2021-05-27T10:21:25.592705Z",
          "iopub.status.idle": "2021-05-27T10:21:25.59918Z",
          "shell.execute_reply.started": "2021-05-27T10:21:25.592657Z",
          "shell.execute_reply": "2021-05-27T10:21:25.597647Z"
        },
        "trusted": true,
        "id": "18uTW0vQT-P5"
      },
      "execution_count": null,
      "outputs": []
    },
    {
      "cell_type": "code",
      "source": [
        "for i in cols:\n",
        "    sns.swarmplot(x=data[\"fetal_health\"], y=data[i], color=\"black\", alpha=0.5 )\n",
        "    sns.boxenplot(x=data[\"fetal_health\"], y=data[i], palette=colours)\n",
        "    plt.show()"
      ],
      "metadata": {
        "execution": {
          "iopub.status.busy": "2021-05-27T10:21:25.600499Z",
          "iopub.execute_input": "2021-05-27T10:21:25.60089Z",
          "iopub.status.idle": "2021-05-27T10:30:36.836943Z",
          "shell.execute_reply.started": "2021-05-27T10:21:25.600857Z",
          "shell.execute_reply": "2021-05-27T10:30:36.835868Z"
        },
        "trusted": true,
        "id": "xjG95_h-T-P5"
      },
      "execution_count": null,
      "outputs": []
    },
    {
      "cell_type": "markdown",
      "source": [
        "I spotted outliers on our dataset. However, it is not quite a good idea to remove them yet as it may lead to overfitting. Though we may end up with better statistics. \n",
        "\n",
        "A basic rule of thumb for the outliers in question is:\n",
        "\n",
        "It is a measurement error or data entry error, correct the error if possible. If you can’t fix it, remove that observation. In our case, this is the outcome of a CTG report so it is unlikely that this was a data entry error. \n",
        "\n",
        "If it is not a part of the population you are studying, you can legitimately remove the outlier. In this case, this all is about the fetus, and experts tag the classification. Let's stick with the expert opinion. \n",
        "\n",
        "Thus assuming that these are the natural part of the population we are studying, we should not remove it."
      ],
      "metadata": {
        "id": "uJKUuz54T-P6"
      }
    },
    {
      "cell_type": "code",
      "source": [
        "shades =[\"#f7b2b0\",\"#c98ea6\",\"#8f7198\",\"#50587f\", \"#003f5c\"]\n",
        "plt.figure(figsize=(20,10))\n",
        "sns.boxenplot(data = data,palette = shades)\n",
        "plt.xticks(rotation=90)\n",
        "plt.show()"
      ],
      "metadata": {
        "execution": {
          "iopub.status.busy": "2021-05-27T10:30:36.83831Z",
          "iopub.execute_input": "2021-05-27T10:30:36.839042Z",
          "iopub.status.idle": "2021-05-27T10:30:37.387094Z",
          "shell.execute_reply.started": "2021-05-27T10:30:36.838998Z",
          "shell.execute_reply": "2021-05-27T10:30:37.385982Z"
        },
        "trusted": true,
        "id": "DpdFEh89T-P6"
      },
      "execution_count": null,
      "outputs": []
    },
    {
      "cell_type": "markdown",
      "source": [
        "The above plot shows the range of our feature attributes. All the features are in different ranges. To fit this in a model we must scale it to the same range.\n",
        "\n",
        "In the model building, we will preprocess the features to do the same."
      ],
      "metadata": {
        "id": "GHU1dl9YT-P6"
      }
    },
    {
      "cell_type": "markdown",
      "source": [
        "# **<span style=\"color:#F7B2B0;\">MODEL SELECTION AND BUILDING</span>**\n",
        "In this section we will:\n",
        "* Set up features(X) and target(Y)\n",
        "* Scale the features\n",
        "* Split training and test sets \n",
        "* Model selection\n",
        "* Hyperparameter tuning"
      ],
      "metadata": {
        "id": "QCPQIDEIT-P6"
      }
    },
    {
      "cell_type": "code",
      "source": [
        "#assigning values to features as X and target as y\n",
        "X=data.drop([\"fetal_health\"],axis=1)\n",
        "y=data[\"fetal_health\"]\n",
        "\n",
        "#Set up a standard scaler for the features\n",
        "col_names = list(X.columns)\n",
        "s_scaler = preprocessing.StandardScaler()\n",
        "X_df= s_scaler.fit_transform(X)\n",
        "X_df = pd.DataFrame(X_df, columns=col_names)   \n",
        "X_df.describe().T"
      ],
      "metadata": {
        "execution": {
          "iopub.status.busy": "2021-05-27T10:30:37.388671Z",
          "iopub.execute_input": "2021-05-27T10:30:37.389297Z",
          "iopub.status.idle": "2021-05-27T10:30:37.474172Z",
          "shell.execute_reply.started": "2021-05-27T10:30:37.389242Z",
          "shell.execute_reply": "2021-05-27T10:30:37.472992Z"
        },
        "trusted": true,
        "id": "_YPT9Nv-T-P6"
      },
      "execution_count": null,
      "outputs": []
    },
    {
      "cell_type": "code",
      "source": [
        "#looking at the scaled features\n",
        "plt.figure(figsize=(20,10))\n",
        "sns.boxenplot(data = X_df,palette = shades)\n",
        "plt.xticks(rotation=90)\n",
        "plt.show()"
      ],
      "metadata": {
        "execution": {
          "iopub.status.busy": "2021-05-27T10:30:37.476706Z",
          "iopub.execute_input": "2021-05-27T10:30:37.477267Z",
          "iopub.status.idle": "2021-05-27T10:30:38.027848Z",
          "shell.execute_reply.started": "2021-05-27T10:30:37.477216Z",
          "shell.execute_reply": "2021-05-27T10:30:38.026615Z"
        },
        "trusted": true,
        "id": "2zWDdl5UT-P6"
      },
      "execution_count": null,
      "outputs": []
    },
    {
      "cell_type": "code",
      "source": [
        "#spliting test and training sets\n",
        "X_train, X_test, y_train,y_test = train_test_split(X_df,y,test_size=0.3,random_state=42)"
      ],
      "metadata": {
        "execution": {
          "iopub.status.busy": "2021-05-27T10:30:38.029384Z",
          "iopub.execute_input": "2021-05-27T10:30:38.029725Z",
          "iopub.status.idle": "2021-05-27T10:30:38.039029Z",
          "shell.execute_reply.started": "2021-05-27T10:30:38.029691Z",
          "shell.execute_reply": "2021-05-27T10:30:38.037379Z"
        },
        "trusted": true,
        "id": "tdZjTI96T-P6"
      },
      "execution_count": null,
      "outputs": []
    },
    {
      "cell_type": "code",
      "source": [
        "#A quick model selection process\n",
        "#pipelines of models( it is short was to fit and pred)\n",
        "pipeline_lr=Pipeline([('lr_classifier',LogisticRegression(random_state=42))])\n",
        "\n",
        "pipeline_dt=Pipeline([ ('dt_classifier',DecisionTreeClassifier(random_state=42))])\n",
        "\n",
        "pipeline_rf=Pipeline([('rf_classifier',RandomForestClassifier())])\n",
        "\n",
        "pipeline_svc=Pipeline([('sv_classifier',SVC())])\n",
        "\n",
        "# List of all the pipelines\n",
        "pipelines = [pipeline_lr, pipeline_dt, pipeline_rf, pipeline_svc]\n",
        "\n",
        "# Dictionary of pipelines and classifier types for ease of reference\n",
        "pipe_dict = {0: 'Logistic Regression', 1: 'Decision Tree', 2: 'RandomForest', 3: \"SVC\"}\n",
        "\n",
        "\n",
        "# Fit the pipelines\n",
        "for pipe in pipelines:\n",
        "    pipe.fit(X_train, y_train)\n",
        "\n",
        "#cross validation on accuracy \n",
        "cv_results_accuracy = []\n",
        "for i, model in enumerate(pipelines):\n",
        "    cv_score = cross_val_score(model, X_train,y_train, cv=10 )\n",
        "    cv_results_accuracy.append(cv_score)\n",
        "    print(\"%s: %f \" % (pipe_dict[i], cv_score.mean()))"
      ],
      "metadata": {
        "execution": {
          "iopub.status.busy": "2021-05-27T10:30:38.040382Z",
          "iopub.execute_input": "2021-05-27T10:30:38.040857Z",
          "iopub.status.idle": "2021-05-27T10:30:43.498008Z",
          "shell.execute_reply.started": "2021-05-27T10:30:38.040819Z",
          "shell.execute_reply": "2021-05-27T10:30:43.49707Z"
        },
        "trusted": true,
        "id": "sxLzIUYmT-P6"
      },
      "execution_count": null,
      "outputs": []
    },
    {
      "cell_type": "markdown",
      "source": [
        "So Random Forest does best amongst the models to be the most accurate. Let us build a better random forest with grid search cv.\n",
        "Let's find out how it performs on testset"
      ],
      "metadata": {
        "id": "NbDzax-IT-P7"
      }
    },
    {
      "cell_type": "code",
      "source": [
        "#taking look at the test set\n",
        "pred_rfc = pipeline_rf.predict(X_test)\n",
        "accuracy = accuracy_score(y_test, pred_rfc)\n",
        "print(accuracy)"
      ],
      "metadata": {
        "execution": {
          "iopub.status.busy": "2021-05-27T10:30:43.499491Z",
          "iopub.execute_input": "2021-05-27T10:30:43.499814Z",
          "iopub.status.idle": "2021-05-27T10:30:43.527009Z",
          "shell.execute_reply.started": "2021-05-27T10:30:43.499782Z",
          "shell.execute_reply": "2021-05-27T10:30:43.526277Z"
        },
        "trusted": true,
        "id": "O9nqRHmlT-P7"
      },
      "execution_count": null,
      "outputs": []
    },
    {
      "cell_type": "code",
      "source": [
        "#Building a dictionalry with list of optional values that will me analyesed by GridSearch CV\n",
        "parameters = { \n",
        "    'n_estimators': [100,150, 200,500,700,900],\n",
        "    'max_features': ['auto', 'sqrt', 'log2'],\n",
        "    'max_depth' : [4,6,8,12,14,16],\n",
        "    'criterion' :['gini', 'entropy'],\n",
        "    'n_jobs':[-1,1,None]\n",
        "}\n",
        "\n",
        "#Fitting the trainingset to find parameters with best accuracy\n",
        "\n",
        "CV_rfc = GridSearchCV(estimator=RandomForestClassifier(), param_grid=parameters, cv= 5)\n",
        "CV_rfc.fit(X_train, y_train)\n",
        "\n",
        "#Getting the outcome of gridsearch\n",
        "\n",
        "CV_rfc.best_params_"
      ],
      "metadata": {
        "execution": {
          "iopub.status.busy": "2021-05-27T10:30:43.528283Z",
          "iopub.execute_input": "2021-05-27T10:30:43.528571Z",
          "iopub.status.idle": "2021-05-27T11:38:10.387763Z",
          "shell.execute_reply.started": "2021-05-27T10:30:43.528543Z",
          "shell.execute_reply": "2021-05-27T11:38:10.386833Z"
        },
        "trusted": true,
        "id": "188Z2dbJT-P7"
      },
      "execution_count": null,
      "outputs": []
    },
    {
      "cell_type": "code",
      "source": [
        "RF_model = RandomForestClassifier(**CV_rfc.best_params_)\n",
        "RF_model.fit(X_train, y_train)\n",
        "#Testing the Model on test set\n",
        "predictions=RF_model.predict(X_test)\n",
        "acccuracy= accuracy_score(y_test,predictions)\n",
        "acccuracy"
      ],
      "metadata": {
        "execution": {
          "iopub.status.busy": "2021-05-27T11:38:10.389899Z",
          "iopub.execute_input": "2021-05-27T11:38:10.390262Z",
          "iopub.status.idle": "2021-05-27T11:38:11.00076Z",
          "shell.execute_reply.started": "2021-05-27T11:38:10.390226Z",
          "shell.execute_reply": "2021-05-27T11:38:10.999888Z"
        },
        "trusted": true,
        "id": "yDd5JoCLT-P7"
      },
      "execution_count": null,
      "outputs": []
    },
    {
      "cell_type": "code",
      "source": [
        "acccuracy = accuracy_score(y_test, predictions)\n",
        "recall = recall_score(y_test, predictions, average=\"weighted\")\n",
        "precision = precision_score(y_test, predictions, average=\"weighted\")\n",
        "f1_score = f1_score(y_test, predictions, average=\"micro\")\n",
        "\n",
        "print(\"********* Random Forest Results *********\")\n",
        "print(\"Accuracy    : \", acccuracy)\n",
        "print(\"Recall      : \", recall)\n",
        "print(\"Precision   : \", precision)\n",
        "print(\"F1 Score    : \", f1_score)"
      ],
      "metadata": {
        "execution": {
          "iopub.status.busy": "2021-05-27T11:38:11.002035Z",
          "iopub.execute_input": "2021-05-27T11:38:11.002482Z",
          "iopub.status.idle": "2021-05-27T11:38:11.018997Z",
          "shell.execute_reply.started": "2021-05-27T11:38:11.002437Z",
          "shell.execute_reply": "2021-05-27T11:38:11.017159Z"
        },
        "trusted": true,
        "id": "p337A5jOT-P7"
      },
      "execution_count": null,
      "outputs": []
    },
    {
      "cell_type": "code",
      "source": [
        "print(classification_report(y_test, predictions))"
      ],
      "metadata": {
        "execution": {
          "iopub.status.busy": "2021-05-27T11:38:11.021107Z",
          "iopub.execute_input": "2021-05-27T11:38:11.021611Z",
          "iopub.status.idle": "2021-05-27T11:38:11.040043Z",
          "shell.execute_reply.started": "2021-05-27T11:38:11.021558Z",
          "shell.execute_reply": "2021-05-27T11:38:11.038501Z"
        },
        "trusted": true,
        "id": "FBqn6m9NT-P7"
      },
      "execution_count": null,
      "outputs": []
    },
    {
      "cell_type": "code",
      "source": [
        "# cofusion matrix\n",
        "plt.subplots(figsize=(12,8))\n",
        "cf_matrix = confusion_matrix(y_test, predictions)\n",
        "sns.heatmap(cf_matrix/np.sum(cf_matrix), cmap=cmap,annot = True, annot_kws = {'size':15})"
      ],
      "metadata": {
        "execution": {
          "iopub.status.busy": "2021-05-27T11:38:11.041961Z",
          "iopub.execute_input": "2021-05-27T11:38:11.042315Z",
          "iopub.status.idle": "2021-05-27T11:38:11.277193Z",
          "shell.execute_reply.started": "2021-05-27T11:38:11.042283Z",
          "shell.execute_reply": "2021-05-27T11:38:11.275636Z"
        },
        "trusted": true,
        "id": "srVi9oGiT-P7"
      },
      "execution_count": null,
      "outputs": []
    },
    {
      "cell_type": "markdown",
      "source": [
        "**<span style=\"color:#003f5c;\"> If you liked this Notebook, please do upvote.</span>**\n",
        "\n",
        "**<span style=\"color:#003f5c;\"> If you have any suggestions or questions, I am all ears!</span>**\n",
        "\n",
        "**<span style=\"color:#003f5c;\">Best Wishes!</span>**\n",
        "\n",
        "<a id=\"5\"></a> \n",
        "# <h1 style='background:#f7b2b0; border:0; color:black'><center>END</center></h1> "
      ],
      "metadata": {
        "id": "1RmfWnh-T-P7"
      }
    }
  ]
}