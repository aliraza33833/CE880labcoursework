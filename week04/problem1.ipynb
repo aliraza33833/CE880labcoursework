{
  "cells": [
    {
      "cell_type": "markdown",
      "metadata": {
        "id": "view-in-github",
        "colab_type": "text"
      },
      "source": [
        "<a href=\"https://colab.research.google.com/github/aliraza33833/CE880labcoursework/blob/main/week04/problem1.ipynb\" target=\"_parent\"><img src=\"https://colab.research.google.com/assets/colab-badge.svg\" alt=\"Open In Colab\"/></a>"
      ]
    },
    {
      "cell_type": "markdown",
      "metadata": {
        "id": "KkbZ0W-a8Vwo"
      },
      "source": [
        "Before you turn this problem in, make sure everything runs as expected. First, **restart the kernel** (in the menubar, select Kernel$\\rightarrow$Restart) and then **run all cells** (in the menubar, select Cell$\\rightarrow$Run All).\n",
        "\n",
        "Make sure you fill in any place that says `YOUR CODE HERE` or \"YOUR ANSWER HERE\", as well as your name and collaborators below:"
      ]
    },
    {
      "cell_type": "code",
      "execution_count": null,
      "metadata": {
        "id": "eXiiLWwm8Vw0"
      },
      "outputs": [],
      "source": [
        "NAME = \"Ali Raza\"\n",
        "Registration number(s) = \"2111909\""
      ]
    },
    {
      "cell_type": "markdown",
      "metadata": {
        "id": "3xEEcO2-8Vw5"
      },
      "source": [
        "---"
      ]
    },
    {
      "cell_type": "markdown",
      "metadata": {
        "id": "5cK2up078Vw6"
      },
      "source": [
        "---\n",
        "# Welcome to CE880\n",
        "### This is your week-4 : Problem notebook\n",
        "\n",
        "For this problem set, we'll be using the Jupyter notebook and please upload this notebook to [Google Colab](https://colab.research.google.com/). \n",
        "\n",
        "### Task: Complete all the three questions given as follows:"
      ]
    },
    {
      "cell_type": "code",
      "execution_count": null,
      "metadata": {
        "id": "L26SIo3v8Vw7"
      },
      "outputs": [],
      "source": [
        "# install sklearn package if you are using local computer and if you are using Google Coalb then skip this step\n",
        "!pip install -U scikit-learn"
      ]
    },
    {
      "cell_type": "code",
      "execution_count": null,
      "metadata": {
        "id": "N19Do4D88Vw8"
      },
      "outputs": [],
      "source": [
        "import pandas as pd\n",
        "import numpy as np\n",
        "from sklearn.cluster import DBSCAN\n",
        "from sklearn.cluster import KMeans\n",
        "from sklearn.datasets import make_circles\n",
        "from sklearn.metrics import adjusted_rand_score\n",
        "from sklearn.preprocessing import StandardScaler\n",
        "from sklearn.metrics import silhouette_score, adjusted_rand_score\n",
        "from sklearn.decomposition import PCA\n",
        "scaler = StandardScaler()"
      ]
    },
    {
      "cell_type": "markdown",
      "metadata": {
        "id": "2pJn8jS98Vw-"
      },
      "source": [
        "---\n",
        "## Question 1: \n",
        "We have already loaded `circle` data for you using `make_circles` function. \n",
        "\n",
        "Write a code to perform `k-means` clustering on `scaled_features` variable and return `silhouette_score` as an output"
      ]
    },
    {
      "cell_type": "code",
      "execution_count": null,
      "metadata": {
        "deletable": false,
        "nbgrader": {
          "cell_type": "code",
          "checksum": "a9ab2630d1e5dbaec97d46ed0719081a",
          "grade": false,
          "grade_id": "myScore_kmean_ans",
          "locked": false,
          "schema_version": 3,
          "solution": true,
          "task": false
        },
        "id": "N6mp6mOt8Vw_"
      },
      "outputs": [],
      "source": [
        "# Let's make two moons, where n is the number of samples\n",
        "features, true_labels = make_circles(n_samples=250, noise=0.05, random_state=42)\n",
        "\n",
        "# fit_transform() method is basically the combination of fit method and transform method, \n",
        "# it is equivalent to fit().transform(). This method performs fit and transform on the \n",
        "# input data at a single time and converts the data points. \n",
        "# If we use fit and transform separate when we need both then it \n",
        "# will decrease the efficiency of the model so we use fit_transform() \n",
        "# which will do both the work.\n",
        "scaled_features = scaler.fit_transform(features)\n",
        "myscore = []\n",
        "\n",
        "def myScore_kmean(scaled_features):\n",
        "    \"\"\"Write code to perform k-means clustering and print silhouette_score\"\"\"\n",
        "    # YOUR CODE HERE\n",
        "    raise NotImplementedError()\n"
      ]
    },
    {
      "cell_type": "code",
      "execution_count": null,
      "metadata": {
        "deletable": false,
        "editable": false,
        "nbgrader": {
          "cell_type": "code",
          "checksum": "a11298f4c8e79d12eb7b2591605dc9c1",
          "grade": true,
          "grade_id": "myScore_kmean_test",
          "locked": true,
          "points": 2,
          "schema_version": 3,
          "solution": false,
          "task": false
        },
        "id": "6V_SP28_8VxC"
      },
      "outputs": [],
      "source": [
        "# Check you solution by running this cell\n",
        "assert myScore_kmean(scaled_features) == 0.4"
      ]
    },
    {
      "cell_type": "markdown",
      "metadata": {
        "id": "ns-2Bs658VxD"
      },
      "source": [
        "---\n",
        "## Question 2: \n",
        "\n",
        "Write a code to perform `DBSCAN` clustering algorithm on `scaled_features` and return `silhouette_score` as an output. Please set the `eps` = 0.2 and `min_samples` = 5"
      ]
    },
    {
      "cell_type": "code",
      "execution_count": null,
      "metadata": {
        "deletable": false,
        "nbgrader": {
          "cell_type": "code",
          "checksum": "9460552de971c1962050fbad85b95457",
          "grade": false,
          "grade_id": "myScore_DBSCAN_ans",
          "locked": false,
          "schema_version": 3,
          "solution": true,
          "task": false
        },
        "id": "LzLeKRhn8VxF"
      },
      "outputs": [],
      "source": [
        "\n",
        "# Let's make two moons, where n is the number of samples\n",
        "from sklearn.datasets import make_moons\n",
        "features, true_labels =  make_moons(n_samples=250, noise=.1)\n",
        "\n",
        "def myScore_DBSCAN(scaled_features):\n",
        "    \"\"\"Write code to perform DBSCAN algorithm and print silhouette_score\"\"\"\n",
        "    # YOUR CODE HERE\n",
        "    raise NotImplementedError()"
      ]
    },
    {
      "cell_type": "code",
      "execution_count": null,
      "metadata": {
        "deletable": false,
        "editable": false,
        "nbgrader": {
          "cell_type": "code",
          "checksum": "f9c550bce90010afda8049c1f0d12f72",
          "grade": true,
          "grade_id": "myScore_DBSCAN_test",
          "locked": true,
          "points": 2,
          "schema_version": 3,
          "solution": false,
          "task": false
        },
        "id": "TU97w1aO8VxH"
      },
      "outputs": [],
      "source": [
        "# Check you solution by running this cell\n",
        "assert myScore_DBSCAN(scaled_features) == 0.2"
      ]
    },
    {
      "cell_type": "markdown",
      "metadata": {
        "id": "Ojbtg5uh8VxI"
      },
      "source": [
        "## Question 3: \n",
        "\n",
        "Complete this code perform `PCA`  on `iris data` and return `explained_variance_ratio_` as an output for the first two principal components (PCs)"
      ]
    },
    {
      "cell_type": "code",
      "execution_count": null,
      "metadata": {
        "deletable": false,
        "nbgrader": {
          "cell_type": "code",
          "checksum": "cf2953800694fab7de723607173020ff",
          "grade": false,
          "grade_id": "myPCA_ans",
          "locked": false,
          "schema_version": 3,
          "solution": true,
          "task": false
        },
        "id": "Ji1yGqGF8VxJ"
      },
      "outputs": [],
      "source": [
        "import pandas as pd\n",
        "url = \"https://archive.ics.uci.edu/ml/machine-learning-databases/iris/iris.data\"\n",
        "# load dataset into Pandas DataFrame\n",
        "df = pd.read_csv(url, names=['sepal length','sepal width','petal length','petal width','target'])\n",
        "\n",
        "features = ['sepal length', 'sepal width', 'petal length', 'petal width']\n",
        "# Separating out the features\n",
        "x = df.loc[:, features].values\n",
        "# Separating out the target\n",
        "y = df.loc[:,['target']].values\n",
        "# Standardizing the features\n",
        "x = StandardScaler().fit_transform(x)\n",
        "    \n",
        "def myPCA(x):\n",
        "    \"\"\"Complete this code return the explained variance ratio for the first two prinical \n",
        "    components after doing PCA on x \"\"\"\n",
        "    # YOUR CODE HERE\n",
        "    raise NotImplementedError()\n"
      ]
    },
    {
      "cell_type": "code",
      "execution_count": null,
      "metadata": {
        "deletable": false,
        "editable": false,
        "nbgrader": {
          "cell_type": "code",
          "checksum": "3287921df8351749a23857a6ec39b6f4",
          "grade": true,
          "grade_id": "myPCA_test",
          "locked": true,
          "points": 2,
          "schema_version": 3,
          "solution": false,
          "task": false
        },
        "id": "pX2UpJhU8VxK"
      },
      "outputs": [],
      "source": [
        "# Check you solution by running this cell\n",
        "x= myPCA(x)\n",
        "y = [0.7277045209380135, 0.23030523267680633]\n",
        "np.testing.assert_allclose(x, y, rtol=1e-5, atol=0)"
      ]
    }
  ],
  "metadata": {
    "kernelspec": {
      "display_name": "Python 3",
      "language": "python",
      "name": "python3"
    },
    "language_info": {
      "codemirror_mode": {
        "name": "ipython",
        "version": 3
      },
      "file_extension": ".py",
      "mimetype": "text/x-python",
      "name": "python",
      "nbconvert_exporter": "python",
      "pygments_lexer": "ipython3",
      "version": "3.7.10"
    },
    "colab": {
      "name": "problem1.ipynb",
      "provenance": [],
      "include_colab_link": true
    }
  },
  "nbformat": 4,
  "nbformat_minor": 0
}